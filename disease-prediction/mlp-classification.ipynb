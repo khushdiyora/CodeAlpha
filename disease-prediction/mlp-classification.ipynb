{
 "cells": [
  {
   "cell_type": "code",
   "execution_count": 1,
   "metadata": {
    "_cell_guid": "b1076dfc-b9ad-4769-8c92-a6c4dae69d19",
    "_uuid": "8f2839f25d086af736a60e9eeb907d3b93b6e0e5",
    "papermill": {
     "duration": 0.038649,
     "end_time": "2022-08-19T02:41:37.904423",
     "exception": false,
     "start_time": "2022-08-19T02:41:37.865774",
     "status": "completed"
    },
    "tags": []
   },
   "outputs": [],
   "source": [
    "import numpy as np # linear algebra\n",
    "import pandas as pd # data processing, CSV file I/O (e.g. pd.read_csv)\n",
    "\n",
    "import os\n",
    "for dirname, _, filenames in os.walk('/Codealpha_ML/disease-prediction'):\n",
    "    for filename in filenames:\n",
    "        print(os.path.join(dirname, filename))"
   ]
  },
  {
   "cell_type": "markdown",
   "metadata": {
    "papermill": {
     "duration": 0.016859,
     "end_time": "2022-08-19T02:41:37.939984",
     "exception": false,
     "start_time": "2022-08-19T02:41:37.923125",
     "status": "completed"
    },
    "tags": []
   },
   "source": [
    "# Importando as Bibliotecas"
   ]
  },
  {
   "cell_type": "code",
   "execution_count": 7,
   "metadata": {
    "_cell_guid": "79c7e3d0-c299-4dcb-8224-4455121ee9b0",
    "_uuid": "d629ff2d2480ee46fbb7e2d37f6b5fab8052498a",
    "papermill": {
     "duration": 5.162872,
     "end_time": "2022-08-19T02:41:43.120072",
     "exception": false,
     "start_time": "2022-08-19T02:41:37.957200",
     "status": "completed"
    },
    "tags": []
   },
   "outputs": [],
   "source": [
    "import tensorflow as tf\n",
    "from tensorflow.keras.models import Sequential\n",
    "from tensorflow.keras.layers import Dense, Dropout, Activation\n",
    "from tensorflow.keras.optimizers import SGD\n",
    "import numpy as np\n",
    "import matplotlib.pyplot as plt"
   ]
  },
  {
   "cell_type": "markdown",
   "metadata": {
    "papermill": {
     "duration": 0.017845,
     "end_time": "2022-08-19T02:41:43.156595",
     "exception": false,
     "start_time": "2022-08-19T02:41:43.138750",
     "status": "completed"
    },
    "tags": []
   },
   "source": [
    "# Separando dados de Treino e Teste"
   ]
  },
  {
   "cell_type": "code",
   "execution_count": 10,
   "metadata": {
    "papermill": {
     "duration": 0.14577,
     "end_time": "2022-08-19T02:41:43.319976",
     "exception": false,
     "start_time": "2022-08-19T02:41:43.174206",
     "status": "completed"
    },
    "tags": []
   },
   "outputs": [
    {
     "data": {
      "text/plain": [
       "Index(['itching', 'skin_rash', 'nodal_skin_eruptions', 'continuous_sneezing',\n",
       "       'shivering', 'chills', 'joint_pain', 'stomach_pain', 'acidity',\n",
       "       'ulcers_on_tongue',\n",
       "       ...\n",
       "       'scurring', 'skin_peeling', 'silver_like_dusting',\n",
       "       'small_dents_in_nails', 'inflammatory_nails', 'blister',\n",
       "       'red_sore_around_nose', 'yellow_crust_ooze', 'prognosis',\n",
       "       'Unnamed: 133'],\n",
       "      dtype='object', length=134)"
      ]
     },
     "execution_count": 10,
     "metadata": {},
     "output_type": "execute_result"
    }
   ],
   "source": [
    "train_data=pd.read_csv(\"Training.csv\")\n",
    "test_data=pd.read_csv(\"Testing.csv\")\n",
    "\n",
    "#colunas dos dados de treino\n",
    "train_data.columns"
   ]
  },
  {
   "cell_type": "code",
   "execution_count": 12,
   "metadata": {
    "papermill": {
     "duration": 0.354777,
     "end_time": "2022-08-19T02:41:43.698216",
     "exception": false,
     "start_time": "2022-08-19T02:41:43.343439",
     "status": "completed"
    },
    "tags": []
   },
   "outputs": [
    {
     "data": {
      "text/html": [
       "<div>\n",
       "<style scoped>\n",
       "    .dataframe tbody tr th:only-of-type {\n",
       "        vertical-align: middle;\n",
       "    }\n",
       "\n",
       "    .dataframe tbody tr th {\n",
       "        vertical-align: top;\n",
       "    }\n",
       "\n",
       "    .dataframe thead th {\n",
       "        text-align: right;\n",
       "    }\n",
       "</style>\n",
       "<table border=\"1\" class=\"dataframe\">\n",
       "  <thead>\n",
       "    <tr style=\"text-align: right;\">\n",
       "      <th></th>\n",
       "      <th>itching</th>\n",
       "      <th>skin_rash</th>\n",
       "      <th>nodal_skin_eruptions</th>\n",
       "      <th>continuous_sneezing</th>\n",
       "      <th>shivering</th>\n",
       "      <th>chills</th>\n",
       "      <th>joint_pain</th>\n",
       "      <th>stomach_pain</th>\n",
       "      <th>acidity</th>\n",
       "      <th>ulcers_on_tongue</th>\n",
       "      <th>...</th>\n",
       "      <th>blackheads</th>\n",
       "      <th>scurring</th>\n",
       "      <th>skin_peeling</th>\n",
       "      <th>silver_like_dusting</th>\n",
       "      <th>small_dents_in_nails</th>\n",
       "      <th>inflammatory_nails</th>\n",
       "      <th>blister</th>\n",
       "      <th>red_sore_around_nose</th>\n",
       "      <th>yellow_crust_ooze</th>\n",
       "      <th>Unnamed: 133</th>\n",
       "    </tr>\n",
       "  </thead>\n",
       "  <tbody>\n",
       "    <tr>\n",
       "      <th>count</th>\n",
       "      <td>4920.000000</td>\n",
       "      <td>4920.000000</td>\n",
       "      <td>4920.000000</td>\n",
       "      <td>4920.000000</td>\n",
       "      <td>4920.000000</td>\n",
       "      <td>4920.000000</td>\n",
       "      <td>4920.000000</td>\n",
       "      <td>4920.000000</td>\n",
       "      <td>4920.000000</td>\n",
       "      <td>4920.000000</td>\n",
       "      <td>...</td>\n",
       "      <td>4920.000000</td>\n",
       "      <td>4920.000000</td>\n",
       "      <td>4920.000000</td>\n",
       "      <td>4920.000000</td>\n",
       "      <td>4920.000000</td>\n",
       "      <td>4920.000000</td>\n",
       "      <td>4920.000000</td>\n",
       "      <td>4920.000000</td>\n",
       "      <td>4920.000000</td>\n",
       "      <td>0.0</td>\n",
       "    </tr>\n",
       "    <tr>\n",
       "      <th>mean</th>\n",
       "      <td>0.137805</td>\n",
       "      <td>0.159756</td>\n",
       "      <td>0.021951</td>\n",
       "      <td>0.045122</td>\n",
       "      <td>0.021951</td>\n",
       "      <td>0.162195</td>\n",
       "      <td>0.139024</td>\n",
       "      <td>0.045122</td>\n",
       "      <td>0.045122</td>\n",
       "      <td>0.021951</td>\n",
       "      <td>...</td>\n",
       "      <td>0.021951</td>\n",
       "      <td>0.021951</td>\n",
       "      <td>0.023171</td>\n",
       "      <td>0.023171</td>\n",
       "      <td>0.023171</td>\n",
       "      <td>0.023171</td>\n",
       "      <td>0.023171</td>\n",
       "      <td>0.023171</td>\n",
       "      <td>0.023171</td>\n",
       "      <td>NaN</td>\n",
       "    </tr>\n",
       "    <tr>\n",
       "      <th>std</th>\n",
       "      <td>0.344730</td>\n",
       "      <td>0.366417</td>\n",
       "      <td>0.146539</td>\n",
       "      <td>0.207593</td>\n",
       "      <td>0.146539</td>\n",
       "      <td>0.368667</td>\n",
       "      <td>0.346007</td>\n",
       "      <td>0.207593</td>\n",
       "      <td>0.207593</td>\n",
       "      <td>0.146539</td>\n",
       "      <td>...</td>\n",
       "      <td>0.146539</td>\n",
       "      <td>0.146539</td>\n",
       "      <td>0.150461</td>\n",
       "      <td>0.150461</td>\n",
       "      <td>0.150461</td>\n",
       "      <td>0.150461</td>\n",
       "      <td>0.150461</td>\n",
       "      <td>0.150461</td>\n",
       "      <td>0.150461</td>\n",
       "      <td>NaN</td>\n",
       "    </tr>\n",
       "    <tr>\n",
       "      <th>min</th>\n",
       "      <td>0.000000</td>\n",
       "      <td>0.000000</td>\n",
       "      <td>0.000000</td>\n",
       "      <td>0.000000</td>\n",
       "      <td>0.000000</td>\n",
       "      <td>0.000000</td>\n",
       "      <td>0.000000</td>\n",
       "      <td>0.000000</td>\n",
       "      <td>0.000000</td>\n",
       "      <td>0.000000</td>\n",
       "      <td>...</td>\n",
       "      <td>0.000000</td>\n",
       "      <td>0.000000</td>\n",
       "      <td>0.000000</td>\n",
       "      <td>0.000000</td>\n",
       "      <td>0.000000</td>\n",
       "      <td>0.000000</td>\n",
       "      <td>0.000000</td>\n",
       "      <td>0.000000</td>\n",
       "      <td>0.000000</td>\n",
       "      <td>NaN</td>\n",
       "    </tr>\n",
       "    <tr>\n",
       "      <th>25%</th>\n",
       "      <td>0.000000</td>\n",
       "      <td>0.000000</td>\n",
       "      <td>0.000000</td>\n",
       "      <td>0.000000</td>\n",
       "      <td>0.000000</td>\n",
       "      <td>0.000000</td>\n",
       "      <td>0.000000</td>\n",
       "      <td>0.000000</td>\n",
       "      <td>0.000000</td>\n",
       "      <td>0.000000</td>\n",
       "      <td>...</td>\n",
       "      <td>0.000000</td>\n",
       "      <td>0.000000</td>\n",
       "      <td>0.000000</td>\n",
       "      <td>0.000000</td>\n",
       "      <td>0.000000</td>\n",
       "      <td>0.000000</td>\n",
       "      <td>0.000000</td>\n",
       "      <td>0.000000</td>\n",
       "      <td>0.000000</td>\n",
       "      <td>NaN</td>\n",
       "    </tr>\n",
       "    <tr>\n",
       "      <th>50%</th>\n",
       "      <td>0.000000</td>\n",
       "      <td>0.000000</td>\n",
       "      <td>0.000000</td>\n",
       "      <td>0.000000</td>\n",
       "      <td>0.000000</td>\n",
       "      <td>0.000000</td>\n",
       "      <td>0.000000</td>\n",
       "      <td>0.000000</td>\n",
       "      <td>0.000000</td>\n",
       "      <td>0.000000</td>\n",
       "      <td>...</td>\n",
       "      <td>0.000000</td>\n",
       "      <td>0.000000</td>\n",
       "      <td>0.000000</td>\n",
       "      <td>0.000000</td>\n",
       "      <td>0.000000</td>\n",
       "      <td>0.000000</td>\n",
       "      <td>0.000000</td>\n",
       "      <td>0.000000</td>\n",
       "      <td>0.000000</td>\n",
       "      <td>NaN</td>\n",
       "    </tr>\n",
       "    <tr>\n",
       "      <th>75%</th>\n",
       "      <td>0.000000</td>\n",
       "      <td>0.000000</td>\n",
       "      <td>0.000000</td>\n",
       "      <td>0.000000</td>\n",
       "      <td>0.000000</td>\n",
       "      <td>0.000000</td>\n",
       "      <td>0.000000</td>\n",
       "      <td>0.000000</td>\n",
       "      <td>0.000000</td>\n",
       "      <td>0.000000</td>\n",
       "      <td>...</td>\n",
       "      <td>0.000000</td>\n",
       "      <td>0.000000</td>\n",
       "      <td>0.000000</td>\n",
       "      <td>0.000000</td>\n",
       "      <td>0.000000</td>\n",
       "      <td>0.000000</td>\n",
       "      <td>0.000000</td>\n",
       "      <td>0.000000</td>\n",
       "      <td>0.000000</td>\n",
       "      <td>NaN</td>\n",
       "    </tr>\n",
       "    <tr>\n",
       "      <th>max</th>\n",
       "      <td>1.000000</td>\n",
       "      <td>1.000000</td>\n",
       "      <td>1.000000</td>\n",
       "      <td>1.000000</td>\n",
       "      <td>1.000000</td>\n",
       "      <td>1.000000</td>\n",
       "      <td>1.000000</td>\n",
       "      <td>1.000000</td>\n",
       "      <td>1.000000</td>\n",
       "      <td>1.000000</td>\n",
       "      <td>...</td>\n",
       "      <td>1.000000</td>\n",
       "      <td>1.000000</td>\n",
       "      <td>1.000000</td>\n",
       "      <td>1.000000</td>\n",
       "      <td>1.000000</td>\n",
       "      <td>1.000000</td>\n",
       "      <td>1.000000</td>\n",
       "      <td>1.000000</td>\n",
       "      <td>1.000000</td>\n",
       "      <td>NaN</td>\n",
       "    </tr>\n",
       "  </tbody>\n",
       "</table>\n",
       "<p>8 rows × 133 columns</p>\n",
       "</div>"
      ],
      "text/plain": [
       "           itching    skin_rash  nodal_skin_eruptions  continuous_sneezing  \\\n",
       "count  4920.000000  4920.000000           4920.000000          4920.000000   \n",
       "mean      0.137805     0.159756              0.021951             0.045122   \n",
       "std       0.344730     0.366417              0.146539             0.207593   \n",
       "min       0.000000     0.000000              0.000000             0.000000   \n",
       "25%       0.000000     0.000000              0.000000             0.000000   \n",
       "50%       0.000000     0.000000              0.000000             0.000000   \n",
       "75%       0.000000     0.000000              0.000000             0.000000   \n",
       "max       1.000000     1.000000              1.000000             1.000000   \n",
       "\n",
       "         shivering       chills   joint_pain  stomach_pain      acidity  \\\n",
       "count  4920.000000  4920.000000  4920.000000   4920.000000  4920.000000   \n",
       "mean      0.021951     0.162195     0.139024      0.045122     0.045122   \n",
       "std       0.146539     0.368667     0.346007      0.207593     0.207593   \n",
       "min       0.000000     0.000000     0.000000      0.000000     0.000000   \n",
       "25%       0.000000     0.000000     0.000000      0.000000     0.000000   \n",
       "50%       0.000000     0.000000     0.000000      0.000000     0.000000   \n",
       "75%       0.000000     0.000000     0.000000      0.000000     0.000000   \n",
       "max       1.000000     1.000000     1.000000      1.000000     1.000000   \n",
       "\n",
       "       ulcers_on_tongue  ...   blackheads     scurring  skin_peeling  \\\n",
       "count       4920.000000  ...  4920.000000  4920.000000   4920.000000   \n",
       "mean           0.021951  ...     0.021951     0.021951      0.023171   \n",
       "std            0.146539  ...     0.146539     0.146539      0.150461   \n",
       "min            0.000000  ...     0.000000     0.000000      0.000000   \n",
       "25%            0.000000  ...     0.000000     0.000000      0.000000   \n",
       "50%            0.000000  ...     0.000000     0.000000      0.000000   \n",
       "75%            0.000000  ...     0.000000     0.000000      0.000000   \n",
       "max            1.000000  ...     1.000000     1.000000      1.000000   \n",
       "\n",
       "       silver_like_dusting  small_dents_in_nails  inflammatory_nails  \\\n",
       "count          4920.000000           4920.000000         4920.000000   \n",
       "mean              0.023171              0.023171            0.023171   \n",
       "std               0.150461              0.150461            0.150461   \n",
       "min               0.000000              0.000000            0.000000   \n",
       "25%               0.000000              0.000000            0.000000   \n",
       "50%               0.000000              0.000000            0.000000   \n",
       "75%               0.000000              0.000000            0.000000   \n",
       "max               1.000000              1.000000            1.000000   \n",
       "\n",
       "           blister  red_sore_around_nose  yellow_crust_ooze  Unnamed: 133  \n",
       "count  4920.000000           4920.000000        4920.000000           0.0  \n",
       "mean      0.023171              0.023171           0.023171           NaN  \n",
       "std       0.150461              0.150461           0.150461           NaN  \n",
       "min       0.000000              0.000000           0.000000           NaN  \n",
       "25%       0.000000              0.000000           0.000000           NaN  \n",
       "50%       0.000000              0.000000           0.000000           NaN  \n",
       "75%       0.000000              0.000000           0.000000           NaN  \n",
       "max       1.000000              1.000000           1.000000           NaN  \n",
       "\n",
       "[8 rows x 133 columns]"
      ]
     },
     "execution_count": 12,
     "metadata": {},
     "output_type": "execute_result"
    }
   ],
   "source": [
    "#descrição dos dados de treino\n",
    "train_data.describe()"
   ]
  },
  {
   "cell_type": "code",
   "execution_count": 14,
   "metadata": {
    "papermill": {
     "duration": 0.31688,
     "end_time": "2022-08-19T02:41:44.033831",
     "exception": false,
     "start_time": "2022-08-19T02:41:43.716951",
     "status": "completed"
    },
    "tags": []
   },
   "outputs": [
    {
     "data": {
      "text/html": [
       "<div>\n",
       "<style scoped>\n",
       "    .dataframe tbody tr th:only-of-type {\n",
       "        vertical-align: middle;\n",
       "    }\n",
       "\n",
       "    .dataframe tbody tr th {\n",
       "        vertical-align: top;\n",
       "    }\n",
       "\n",
       "    .dataframe thead th {\n",
       "        text-align: right;\n",
       "    }\n",
       "</style>\n",
       "<table border=\"1\" class=\"dataframe\">\n",
       "  <thead>\n",
       "    <tr style=\"text-align: right;\">\n",
       "      <th></th>\n",
       "      <th>itching</th>\n",
       "      <th>skin_rash</th>\n",
       "      <th>nodal_skin_eruptions</th>\n",
       "      <th>continuous_sneezing</th>\n",
       "      <th>shivering</th>\n",
       "      <th>chills</th>\n",
       "      <th>joint_pain</th>\n",
       "      <th>stomach_pain</th>\n",
       "      <th>acidity</th>\n",
       "      <th>ulcers_on_tongue</th>\n",
       "      <th>...</th>\n",
       "      <th>pus_filled_pimples</th>\n",
       "      <th>blackheads</th>\n",
       "      <th>scurring</th>\n",
       "      <th>skin_peeling</th>\n",
       "      <th>silver_like_dusting</th>\n",
       "      <th>small_dents_in_nails</th>\n",
       "      <th>inflammatory_nails</th>\n",
       "      <th>blister</th>\n",
       "      <th>red_sore_around_nose</th>\n",
       "      <th>yellow_crust_ooze</th>\n",
       "    </tr>\n",
       "  </thead>\n",
       "  <tbody>\n",
       "    <tr>\n",
       "      <th>count</th>\n",
       "      <td>42.000000</td>\n",
       "      <td>42.000000</td>\n",
       "      <td>42.000000</td>\n",
       "      <td>42.000000</td>\n",
       "      <td>42.000000</td>\n",
       "      <td>42.000000</td>\n",
       "      <td>42.000000</td>\n",
       "      <td>42.000000</td>\n",
       "      <td>42.000000</td>\n",
       "      <td>42.000000</td>\n",
       "      <td>...</td>\n",
       "      <td>42.000000</td>\n",
       "      <td>42.000000</td>\n",
       "      <td>42.000000</td>\n",
       "      <td>42.000000</td>\n",
       "      <td>42.000000</td>\n",
       "      <td>42.000000</td>\n",
       "      <td>42.000000</td>\n",
       "      <td>42.000000</td>\n",
       "      <td>42.000000</td>\n",
       "      <td>42.000000</td>\n",
       "    </tr>\n",
       "    <tr>\n",
       "      <th>mean</th>\n",
       "      <td>0.166667</td>\n",
       "      <td>0.190476</td>\n",
       "      <td>0.023810</td>\n",
       "      <td>0.047619</td>\n",
       "      <td>0.023810</td>\n",
       "      <td>0.166667</td>\n",
       "      <td>0.142857</td>\n",
       "      <td>0.047619</td>\n",
       "      <td>0.047619</td>\n",
       "      <td>0.023810</td>\n",
       "      <td>...</td>\n",
       "      <td>0.023810</td>\n",
       "      <td>0.023810</td>\n",
       "      <td>0.023810</td>\n",
       "      <td>0.047619</td>\n",
       "      <td>0.023810</td>\n",
       "      <td>0.023810</td>\n",
       "      <td>0.023810</td>\n",
       "      <td>0.023810</td>\n",
       "      <td>0.047619</td>\n",
       "      <td>0.023810</td>\n",
       "    </tr>\n",
       "    <tr>\n",
       "      <th>std</th>\n",
       "      <td>0.377195</td>\n",
       "      <td>0.397437</td>\n",
       "      <td>0.154303</td>\n",
       "      <td>0.215540</td>\n",
       "      <td>0.154303</td>\n",
       "      <td>0.377195</td>\n",
       "      <td>0.354169</td>\n",
       "      <td>0.215540</td>\n",
       "      <td>0.215540</td>\n",
       "      <td>0.154303</td>\n",
       "      <td>...</td>\n",
       "      <td>0.154303</td>\n",
       "      <td>0.154303</td>\n",
       "      <td>0.154303</td>\n",
       "      <td>0.215540</td>\n",
       "      <td>0.154303</td>\n",
       "      <td>0.154303</td>\n",
       "      <td>0.154303</td>\n",
       "      <td>0.154303</td>\n",
       "      <td>0.215540</td>\n",
       "      <td>0.154303</td>\n",
       "    </tr>\n",
       "    <tr>\n",
       "      <th>min</th>\n",
       "      <td>0.000000</td>\n",
       "      <td>0.000000</td>\n",
       "      <td>0.000000</td>\n",
       "      <td>0.000000</td>\n",
       "      <td>0.000000</td>\n",
       "      <td>0.000000</td>\n",
       "      <td>0.000000</td>\n",
       "      <td>0.000000</td>\n",
       "      <td>0.000000</td>\n",
       "      <td>0.000000</td>\n",
       "      <td>...</td>\n",
       "      <td>0.000000</td>\n",
       "      <td>0.000000</td>\n",
       "      <td>0.000000</td>\n",
       "      <td>0.000000</td>\n",
       "      <td>0.000000</td>\n",
       "      <td>0.000000</td>\n",
       "      <td>0.000000</td>\n",
       "      <td>0.000000</td>\n",
       "      <td>0.000000</td>\n",
       "      <td>0.000000</td>\n",
       "    </tr>\n",
       "    <tr>\n",
       "      <th>25%</th>\n",
       "      <td>0.000000</td>\n",
       "      <td>0.000000</td>\n",
       "      <td>0.000000</td>\n",
       "      <td>0.000000</td>\n",
       "      <td>0.000000</td>\n",
       "      <td>0.000000</td>\n",
       "      <td>0.000000</td>\n",
       "      <td>0.000000</td>\n",
       "      <td>0.000000</td>\n",
       "      <td>0.000000</td>\n",
       "      <td>...</td>\n",
       "      <td>0.000000</td>\n",
       "      <td>0.000000</td>\n",
       "      <td>0.000000</td>\n",
       "      <td>0.000000</td>\n",
       "      <td>0.000000</td>\n",
       "      <td>0.000000</td>\n",
       "      <td>0.000000</td>\n",
       "      <td>0.000000</td>\n",
       "      <td>0.000000</td>\n",
       "      <td>0.000000</td>\n",
       "    </tr>\n",
       "    <tr>\n",
       "      <th>50%</th>\n",
       "      <td>0.000000</td>\n",
       "      <td>0.000000</td>\n",
       "      <td>0.000000</td>\n",
       "      <td>0.000000</td>\n",
       "      <td>0.000000</td>\n",
       "      <td>0.000000</td>\n",
       "      <td>0.000000</td>\n",
       "      <td>0.000000</td>\n",
       "      <td>0.000000</td>\n",
       "      <td>0.000000</td>\n",
       "      <td>...</td>\n",
       "      <td>0.000000</td>\n",
       "      <td>0.000000</td>\n",
       "      <td>0.000000</td>\n",
       "      <td>0.000000</td>\n",
       "      <td>0.000000</td>\n",
       "      <td>0.000000</td>\n",
       "      <td>0.000000</td>\n",
       "      <td>0.000000</td>\n",
       "      <td>0.000000</td>\n",
       "      <td>0.000000</td>\n",
       "    </tr>\n",
       "    <tr>\n",
       "      <th>75%</th>\n",
       "      <td>0.000000</td>\n",
       "      <td>0.000000</td>\n",
       "      <td>0.000000</td>\n",
       "      <td>0.000000</td>\n",
       "      <td>0.000000</td>\n",
       "      <td>0.000000</td>\n",
       "      <td>0.000000</td>\n",
       "      <td>0.000000</td>\n",
       "      <td>0.000000</td>\n",
       "      <td>0.000000</td>\n",
       "      <td>...</td>\n",
       "      <td>0.000000</td>\n",
       "      <td>0.000000</td>\n",
       "      <td>0.000000</td>\n",
       "      <td>0.000000</td>\n",
       "      <td>0.000000</td>\n",
       "      <td>0.000000</td>\n",
       "      <td>0.000000</td>\n",
       "      <td>0.000000</td>\n",
       "      <td>0.000000</td>\n",
       "      <td>0.000000</td>\n",
       "    </tr>\n",
       "    <tr>\n",
       "      <th>max</th>\n",
       "      <td>1.000000</td>\n",
       "      <td>1.000000</td>\n",
       "      <td>1.000000</td>\n",
       "      <td>1.000000</td>\n",
       "      <td>1.000000</td>\n",
       "      <td>1.000000</td>\n",
       "      <td>1.000000</td>\n",
       "      <td>1.000000</td>\n",
       "      <td>1.000000</td>\n",
       "      <td>1.000000</td>\n",
       "      <td>...</td>\n",
       "      <td>1.000000</td>\n",
       "      <td>1.000000</td>\n",
       "      <td>1.000000</td>\n",
       "      <td>1.000000</td>\n",
       "      <td>1.000000</td>\n",
       "      <td>1.000000</td>\n",
       "      <td>1.000000</td>\n",
       "      <td>1.000000</td>\n",
       "      <td>1.000000</td>\n",
       "      <td>1.000000</td>\n",
       "    </tr>\n",
       "  </tbody>\n",
       "</table>\n",
       "<p>8 rows × 132 columns</p>\n",
       "</div>"
      ],
      "text/plain": [
       "         itching  skin_rash  nodal_skin_eruptions  continuous_sneezing  \\\n",
       "count  42.000000  42.000000             42.000000            42.000000   \n",
       "mean    0.166667   0.190476              0.023810             0.047619   \n",
       "std     0.377195   0.397437              0.154303             0.215540   \n",
       "min     0.000000   0.000000              0.000000             0.000000   \n",
       "25%     0.000000   0.000000              0.000000             0.000000   \n",
       "50%     0.000000   0.000000              0.000000             0.000000   \n",
       "75%     0.000000   0.000000              0.000000             0.000000   \n",
       "max     1.000000   1.000000              1.000000             1.000000   \n",
       "\n",
       "       shivering     chills  joint_pain  stomach_pain    acidity  \\\n",
       "count  42.000000  42.000000   42.000000     42.000000  42.000000   \n",
       "mean    0.023810   0.166667    0.142857      0.047619   0.047619   \n",
       "std     0.154303   0.377195    0.354169      0.215540   0.215540   \n",
       "min     0.000000   0.000000    0.000000      0.000000   0.000000   \n",
       "25%     0.000000   0.000000    0.000000      0.000000   0.000000   \n",
       "50%     0.000000   0.000000    0.000000      0.000000   0.000000   \n",
       "75%     0.000000   0.000000    0.000000      0.000000   0.000000   \n",
       "max     1.000000   1.000000    1.000000      1.000000   1.000000   \n",
       "\n",
       "       ulcers_on_tongue  ...  pus_filled_pimples  blackheads   scurring  \\\n",
       "count         42.000000  ...           42.000000   42.000000  42.000000   \n",
       "mean           0.023810  ...            0.023810    0.023810   0.023810   \n",
       "std            0.154303  ...            0.154303    0.154303   0.154303   \n",
       "min            0.000000  ...            0.000000    0.000000   0.000000   \n",
       "25%            0.000000  ...            0.000000    0.000000   0.000000   \n",
       "50%            0.000000  ...            0.000000    0.000000   0.000000   \n",
       "75%            0.000000  ...            0.000000    0.000000   0.000000   \n",
       "max            1.000000  ...            1.000000    1.000000   1.000000   \n",
       "\n",
       "       skin_peeling  silver_like_dusting  small_dents_in_nails  \\\n",
       "count     42.000000            42.000000             42.000000   \n",
       "mean       0.047619             0.023810              0.023810   \n",
       "std        0.215540             0.154303              0.154303   \n",
       "min        0.000000             0.000000              0.000000   \n",
       "25%        0.000000             0.000000              0.000000   \n",
       "50%        0.000000             0.000000              0.000000   \n",
       "75%        0.000000             0.000000              0.000000   \n",
       "max        1.000000             1.000000              1.000000   \n",
       "\n",
       "       inflammatory_nails    blister  red_sore_around_nose  yellow_crust_ooze  \n",
       "count           42.000000  42.000000             42.000000          42.000000  \n",
       "mean             0.023810   0.023810              0.047619           0.023810  \n",
       "std              0.154303   0.154303              0.215540           0.154303  \n",
       "min              0.000000   0.000000              0.000000           0.000000  \n",
       "25%              0.000000   0.000000              0.000000           0.000000  \n",
       "50%              0.000000   0.000000              0.000000           0.000000  \n",
       "75%              0.000000   0.000000              0.000000           0.000000  \n",
       "max              1.000000   1.000000              1.000000           1.000000  \n",
       "\n",
       "[8 rows x 132 columns]"
      ]
     },
     "execution_count": 14,
     "metadata": {},
     "output_type": "execute_result"
    }
   ],
   "source": [
    "#descrição dos dados de teste\n",
    "test_data.describe()"
   ]
  },
  {
   "cell_type": "code",
   "execution_count": 16,
   "metadata": {
    "papermill": {
     "duration": 0.028321,
     "end_time": "2022-08-19T02:41:44.081886",
     "exception": false,
     "start_time": "2022-08-19T02:41:44.053565",
     "status": "completed"
    },
    "tags": []
   },
   "outputs": [
    {
     "data": {
      "text/plain": [
       "(4920, 134)"
      ]
     },
     "execution_count": 16,
     "metadata": {},
     "output_type": "execute_result"
    }
   ],
   "source": [
    "#formato dos dados de treino\n",
    "train_data.shape"
   ]
  },
  {
   "cell_type": "code",
   "execution_count": 18,
   "metadata": {
    "papermill": {
     "duration": 0.027183,
     "end_time": "2022-08-19T02:41:44.128645",
     "exception": false,
     "start_time": "2022-08-19T02:41:44.101462",
     "status": "completed"
    },
    "tags": []
   },
   "outputs": [
    {
     "data": {
      "text/plain": [
       "(42, 133)"
      ]
     },
     "execution_count": 18,
     "metadata": {},
     "output_type": "execute_result"
    }
   ],
   "source": [
    "#formato dos dados de teste\n",
    "test_data.shape"
   ]
  },
  {
   "cell_type": "code",
   "execution_count": 20,
   "metadata": {
    "papermill": {
     "duration": 0.033952,
     "end_time": "2022-08-19T02:41:44.182446",
     "exception": false,
     "start_time": "2022-08-19T02:41:44.148494",
     "status": "completed"
    },
    "tags": []
   },
   "outputs": [
    {
     "data": {
      "text/plain": [
       "itching                    0\n",
       "skin_rash                  0\n",
       "nodal_skin_eruptions       0\n",
       "continuous_sneezing        0\n",
       "shivering                  0\n",
       "                        ... \n",
       "blister                    0\n",
       "red_sore_around_nose       0\n",
       "yellow_crust_ooze          0\n",
       "prognosis                  0\n",
       "Unnamed: 133            4920\n",
       "Length: 134, dtype: int64"
      ]
     },
     "execution_count": 20,
     "metadata": {},
     "output_type": "execute_result"
    }
   ],
   "source": [
    "# checando valores NAN nos dados de treino\n",
    "train_data.isnull().sum()"
   ]
  },
  {
   "cell_type": "code",
   "execution_count": 22,
   "metadata": {
    "papermill": {
     "duration": 0.032907,
     "end_time": "2022-08-19T02:41:44.235751",
     "exception": false,
     "start_time": "2022-08-19T02:41:44.202844",
     "status": "completed"
    },
    "tags": []
   },
   "outputs": [
    {
     "data": {
      "text/plain": [
       "prognosis\n",
       "Fungal infection                           120\n",
       "Hepatitis C                                120\n",
       "Hepatitis E                                120\n",
       "Alcoholic hepatitis                        120\n",
       "Tuberculosis                               120\n",
       "Common Cold                                120\n",
       "Pneumonia                                  120\n",
       "Dimorphic hemmorhoids(piles)               120\n",
       "Heart attack                               120\n",
       "Varicose veins                             120\n",
       "Hypothyroidism                             120\n",
       "Hyperthyroidism                            120\n",
       "Hypoglycemia                               120\n",
       "Osteoarthristis                            120\n",
       "Arthritis                                  120\n",
       "(vertigo) Paroymsal  Positional Vertigo    120\n",
       "Acne                                       120\n",
       "Urinary tract infection                    120\n",
       "Psoriasis                                  120\n",
       "Hepatitis D                                120\n",
       "Hepatitis B                                120\n",
       "Allergy                                    120\n",
       "hepatitis A                                120\n",
       "GERD                                       120\n",
       "Chronic cholestasis                        120\n",
       "Drug Reaction                              120\n",
       "Peptic ulcer diseae                        120\n",
       "AIDS                                       120\n",
       "Diabetes                                   120\n",
       "Gastroenteritis                            120\n",
       "Bronchial Asthma                           120\n",
       "Hypertension                               120\n",
       "Migraine                                   120\n",
       "Cervical spondylosis                       120\n",
       "Paralysis (brain hemorrhage)               120\n",
       "Jaundice                                   120\n",
       "Malaria                                    120\n",
       "Chicken pox                                120\n",
       "Dengue                                     120\n",
       "Typhoid                                    120\n",
       "Impetigo                                   120\n",
       "Name: count, dtype: int64"
      ]
     },
     "execution_count": 22,
     "metadata": {},
     "output_type": "execute_result"
    }
   ],
   "source": [
    "# Visualizando todos os valores exclusivos das colunas de prognosis\n",
    "train_data['prognosis'].value_counts()"
   ]
  },
  {
   "cell_type": "code",
   "execution_count": 24,
   "metadata": {
    "papermill": {
     "duration": 0.032344,
     "end_time": "2022-08-19T02:41:44.288906",
     "exception": false,
     "start_time": "2022-08-19T02:41:44.256562",
     "status": "completed"
    },
    "tags": []
   },
   "outputs": [
    {
     "data": {
      "text/plain": [
       "41"
      ]
     },
     "execution_count": 24,
     "metadata": {},
     "output_type": "execute_result"
    }
   ],
   "source": [
    "# quantos valores exclusivos a coluna de prognosis tem\n",
    "len(train_data['prognosis'].value_counts())"
   ]
  },
  {
   "cell_type": "code",
   "execution_count": 49,
   "metadata": {
    "papermill": {
     "duration": 0.037299,
     "end_time": "2022-08-19T02:41:44.348449",
     "exception": false,
     "start_time": "2022-08-19T02:41:44.311150",
     "status": "completed"
    },
    "tags": []
   },
   "outputs": [
    {
     "name": "stdout",
     "output_type": "stream",
     "text": [
      "<class 'pandas.core.frame.DataFrame'>\n",
      "RangeIndex: 4920 entries, 0 to 4919\n",
      "Columns: 134 entries, itching to Unnamed: 133\n",
      "dtypes: float64(1), int64(132), object(1)\n",
      "memory usage: 5.0+ MB\n",
      "None\n"
     ]
    }
   ],
   "source": [
    "# Prepare training and test sets\n",
    "y_train = np.array(train_data['prognosis'])\n",
    "x_train = np.array(train_data.drop(columns=['prognosis', 'Unnamed: 133']))\n",
    "y_test = np.array(test_data['prognosis'])\n",
    "x_test = np.array(test_data.drop(columns=['prognosis']))\n",
    "\n",
    "# Print data info (optional)\n",
    "print(train_data.info())"
   ]
  },
  {
   "cell_type": "code",
   "execution_count": 51,
   "metadata": {
    "papermill": {
     "duration": 0.036893,
     "end_time": "2022-08-19T02:41:44.407117",
     "exception": false,
     "start_time": "2022-08-19T02:41:44.370224",
     "status": "completed"
    },
    "tags": []
   },
   "outputs": [
    {
     "name": "stdout",
     "output_type": "stream",
     "text": [
      "<class 'pandas.core.frame.DataFrame'>\n",
      "RangeIndex: 4920 entries, 0 to 4919\n",
      "Columns: 134 entries, itching to Unnamed: 133\n",
      "dtypes: float64(1), int64(132), object(1)\n",
      "memory usage: 5.0+ MB\n"
     ]
    }
   ],
   "source": [
    "#informação dos dados de treino\n",
    "train_data.info()"
   ]
  },
  {
   "cell_type": "code",
   "execution_count": 53,
   "metadata": {
    "papermill": {
     "duration": 0.046468,
     "end_time": "2022-08-19T02:41:44.475511",
     "exception": false,
     "start_time": "2022-08-19T02:41:44.429043",
     "status": "completed"
    },
    "tags": []
   },
   "outputs": [
    {
     "data": {
      "text/html": [
       "<div>\n",
       "<style scoped>\n",
       "    .dataframe tbody tr th:only-of-type {\n",
       "        vertical-align: middle;\n",
       "    }\n",
       "\n",
       "    .dataframe tbody tr th {\n",
       "        vertical-align: top;\n",
       "    }\n",
       "\n",
       "    .dataframe thead th {\n",
       "        text-align: right;\n",
       "    }\n",
       "</style>\n",
       "<table border=\"1\" class=\"dataframe\">\n",
       "  <thead>\n",
       "    <tr style=\"text-align: right;\">\n",
       "      <th></th>\n",
       "      <th>itching</th>\n",
       "      <th>skin_rash</th>\n",
       "      <th>nodal_skin_eruptions</th>\n",
       "      <th>continuous_sneezing</th>\n",
       "      <th>shivering</th>\n",
       "      <th>chills</th>\n",
       "      <th>joint_pain</th>\n",
       "      <th>stomach_pain</th>\n",
       "      <th>acidity</th>\n",
       "      <th>ulcers_on_tongue</th>\n",
       "      <th>...</th>\n",
       "      <th>scurring</th>\n",
       "      <th>skin_peeling</th>\n",
       "      <th>silver_like_dusting</th>\n",
       "      <th>small_dents_in_nails</th>\n",
       "      <th>inflammatory_nails</th>\n",
       "      <th>blister</th>\n",
       "      <th>red_sore_around_nose</th>\n",
       "      <th>yellow_crust_ooze</th>\n",
       "      <th>prognosis</th>\n",
       "      <th>Unnamed: 133</th>\n",
       "    </tr>\n",
       "  </thead>\n",
       "  <tbody>\n",
       "    <tr>\n",
       "      <th>0</th>\n",
       "      <td>1</td>\n",
       "      <td>1</td>\n",
       "      <td>1</td>\n",
       "      <td>0</td>\n",
       "      <td>0</td>\n",
       "      <td>0</td>\n",
       "      <td>0</td>\n",
       "      <td>0</td>\n",
       "      <td>0</td>\n",
       "      <td>0</td>\n",
       "      <td>...</td>\n",
       "      <td>0</td>\n",
       "      <td>0</td>\n",
       "      <td>0</td>\n",
       "      <td>0</td>\n",
       "      <td>0</td>\n",
       "      <td>0</td>\n",
       "      <td>0</td>\n",
       "      <td>0</td>\n",
       "      <td>Fungal infection</td>\n",
       "      <td>NaN</td>\n",
       "    </tr>\n",
       "    <tr>\n",
       "      <th>1</th>\n",
       "      <td>0</td>\n",
       "      <td>1</td>\n",
       "      <td>1</td>\n",
       "      <td>0</td>\n",
       "      <td>0</td>\n",
       "      <td>0</td>\n",
       "      <td>0</td>\n",
       "      <td>0</td>\n",
       "      <td>0</td>\n",
       "      <td>0</td>\n",
       "      <td>...</td>\n",
       "      <td>0</td>\n",
       "      <td>0</td>\n",
       "      <td>0</td>\n",
       "      <td>0</td>\n",
       "      <td>0</td>\n",
       "      <td>0</td>\n",
       "      <td>0</td>\n",
       "      <td>0</td>\n",
       "      <td>Fungal infection</td>\n",
       "      <td>NaN</td>\n",
       "    </tr>\n",
       "    <tr>\n",
       "      <th>2</th>\n",
       "      <td>1</td>\n",
       "      <td>0</td>\n",
       "      <td>1</td>\n",
       "      <td>0</td>\n",
       "      <td>0</td>\n",
       "      <td>0</td>\n",
       "      <td>0</td>\n",
       "      <td>0</td>\n",
       "      <td>0</td>\n",
       "      <td>0</td>\n",
       "      <td>...</td>\n",
       "      <td>0</td>\n",
       "      <td>0</td>\n",
       "      <td>0</td>\n",
       "      <td>0</td>\n",
       "      <td>0</td>\n",
       "      <td>0</td>\n",
       "      <td>0</td>\n",
       "      <td>0</td>\n",
       "      <td>Fungal infection</td>\n",
       "      <td>NaN</td>\n",
       "    </tr>\n",
       "    <tr>\n",
       "      <th>3</th>\n",
       "      <td>1</td>\n",
       "      <td>1</td>\n",
       "      <td>0</td>\n",
       "      <td>0</td>\n",
       "      <td>0</td>\n",
       "      <td>0</td>\n",
       "      <td>0</td>\n",
       "      <td>0</td>\n",
       "      <td>0</td>\n",
       "      <td>0</td>\n",
       "      <td>...</td>\n",
       "      <td>0</td>\n",
       "      <td>0</td>\n",
       "      <td>0</td>\n",
       "      <td>0</td>\n",
       "      <td>0</td>\n",
       "      <td>0</td>\n",
       "      <td>0</td>\n",
       "      <td>0</td>\n",
       "      <td>Fungal infection</td>\n",
       "      <td>NaN</td>\n",
       "    </tr>\n",
       "    <tr>\n",
       "      <th>4</th>\n",
       "      <td>1</td>\n",
       "      <td>1</td>\n",
       "      <td>1</td>\n",
       "      <td>0</td>\n",
       "      <td>0</td>\n",
       "      <td>0</td>\n",
       "      <td>0</td>\n",
       "      <td>0</td>\n",
       "      <td>0</td>\n",
       "      <td>0</td>\n",
       "      <td>...</td>\n",
       "      <td>0</td>\n",
       "      <td>0</td>\n",
       "      <td>0</td>\n",
       "      <td>0</td>\n",
       "      <td>0</td>\n",
       "      <td>0</td>\n",
       "      <td>0</td>\n",
       "      <td>0</td>\n",
       "      <td>Fungal infection</td>\n",
       "      <td>NaN</td>\n",
       "    </tr>\n",
       "  </tbody>\n",
       "</table>\n",
       "<p>5 rows × 134 columns</p>\n",
       "</div>"
      ],
      "text/plain": [
       "   itching  skin_rash  nodal_skin_eruptions  continuous_sneezing  shivering  \\\n",
       "0        1          1                     1                    0          0   \n",
       "1        0          1                     1                    0          0   \n",
       "2        1          0                     1                    0          0   \n",
       "3        1          1                     0                    0          0   \n",
       "4        1          1                     1                    0          0   \n",
       "\n",
       "   chills  joint_pain  stomach_pain  acidity  ulcers_on_tongue  ...  scurring  \\\n",
       "0       0           0             0        0                 0  ...         0   \n",
       "1       0           0             0        0                 0  ...         0   \n",
       "2       0           0             0        0                 0  ...         0   \n",
       "3       0           0             0        0                 0  ...         0   \n",
       "4       0           0             0        0                 0  ...         0   \n",
       "\n",
       "   skin_peeling  silver_like_dusting  small_dents_in_nails  \\\n",
       "0             0                    0                     0   \n",
       "1             0                    0                     0   \n",
       "2             0                    0                     0   \n",
       "3             0                    0                     0   \n",
       "4             0                    0                     0   \n",
       "\n",
       "   inflammatory_nails  blister  red_sore_around_nose  yellow_crust_ooze  \\\n",
       "0                   0        0                     0                  0   \n",
       "1                   0        0                     0                  0   \n",
       "2                   0        0                     0                  0   \n",
       "3                   0        0                     0                  0   \n",
       "4                   0        0                     0                  0   \n",
       "\n",
       "          prognosis  Unnamed: 133  \n",
       "0  Fungal infection           NaN  \n",
       "1  Fungal infection           NaN  \n",
       "2  Fungal infection           NaN  \n",
       "3  Fungal infection           NaN  \n",
       "4  Fungal infection           NaN  \n",
       "\n",
       "[5 rows x 134 columns]"
      ]
     },
     "execution_count": 53,
     "metadata": {},
     "output_type": "execute_result"
    }
   ],
   "source": [
    "#primeiros dados de treino em tabela\n",
    "train_data.head()"
   ]
  },
  {
   "cell_type": "code",
   "execution_count": 55,
   "metadata": {
    "papermill": {
     "duration": 0.034273,
     "end_time": "2022-08-19T02:41:44.532169",
     "exception": false,
     "start_time": "2022-08-19T02:41:44.497896",
     "status": "completed"
    },
    "tags": []
   },
   "outputs": [
    {
     "data": {
      "text/plain": [
       "array(['(vertigo) Paroymsal  Positional Vertigo', 'AIDS', 'Acne',\n",
       "       'Alcoholic hepatitis', 'Allergy', 'Arthritis', 'Bronchial Asthma',\n",
       "       'Cervical spondylosis', 'Chicken pox', 'Chronic cholestasis',\n",
       "       'Common Cold', 'Dengue', 'Diabetes ',\n",
       "       'Dimorphic hemmorhoids(piles)', 'Drug Reaction',\n",
       "       'Fungal infection', 'GERD', 'Gastroenteritis', 'Heart attack',\n",
       "       'Hepatitis B', 'Hepatitis C', 'Hepatitis D', 'Hepatitis E',\n",
       "       'Hypertension ', 'Hyperthyroidism', 'Hypoglycemia',\n",
       "       'Hypothyroidism', 'Impetigo', 'Jaundice', 'Malaria', 'Migraine',\n",
       "       'Osteoarthristis', 'Paralysis (brain hemorrhage)',\n",
       "       'Peptic ulcer diseae', 'Pneumonia', 'Psoriasis', 'Tuberculosis',\n",
       "       'Typhoid', 'Urinary tract infection', 'Varicose veins',\n",
       "       'hepatitis A'], dtype=object)"
      ]
     },
     "execution_count": 55,
     "metadata": {},
     "output_type": "execute_result"
    }
   ],
   "source": [
    "#np.unique([1, 1, 2, 2, 3, 3])\n",
    "#Retorna os elementos exclusivos classificados de uma matriz - y_train.\n",
    "values=np.unique(y_train)\n",
    "values"
   ]
  },
  {
   "cell_type": "code",
   "execution_count": 57,
   "metadata": {
    "papermill": {
     "duration": 0.124567,
     "end_time": "2022-08-19T02:41:44.679476",
     "exception": false,
     "start_time": "2022-08-19T02:41:44.554909",
     "status": "completed"
    },
    "tags": []
   },
   "outputs": [],
   "source": [
    "# Retorna uma nova array com formato e tamanho dados pelos parâmetros (y_train e values), cheias de zero\n",
    "Y_train=np.zeros(shape=(len(y_train),len(values)))\n",
    "k=0\n",
    "for x in y_train:\n",
    "     for i in range(len(values)):\n",
    "            if x==values[i]:\n",
    "                tmp=list(np.zeros(41))\n",
    "                tmp[i]=1\n",
    "                Y_train[k]=tmp\n",
    "                k+=1\n"
   ]
  },
  {
   "cell_type": "code",
   "execution_count": 59,
   "metadata": {
    "papermill": {
     "duration": 0.031845,
     "end_time": "2022-08-19T02:41:44.733712",
     "exception": false,
     "start_time": "2022-08-19T02:41:44.701867",
     "status": "completed"
    },
    "tags": []
   },
   "outputs": [
    {
     "data": {
      "text/plain": [
       "array([0., 0., 0., 0., 0., 0., 0., 0., 0., 0., 0., 0., 0., 0., 0., 1., 0.,\n",
       "       0., 0., 0., 0., 0., 0., 0., 0., 0., 0., 0., 0., 0., 0., 0., 0., 0.,\n",
       "       0., 0., 0., 0., 0., 0., 0.])"
      ]
     },
     "execution_count": 59,
     "metadata": {},
     "output_type": "execute_result"
    }
   ],
   "source": [
    "Y_train[0]"
   ]
  },
  {
   "cell_type": "code",
   "execution_count": 61,
   "metadata": {
    "papermill": {
     "duration": 0.036545,
     "end_time": "2022-08-19T02:41:44.793129",
     "exception": false,
     "start_time": "2022-08-19T02:41:44.756584",
     "status": "completed"
    },
    "tags": []
   },
   "outputs": [
    {
     "data": {
      "text/plain": [
       "array([0., 1.])"
      ]
     },
     "execution_count": 61,
     "metadata": {},
     "output_type": "execute_result"
    }
   ],
   "source": [
    "np.unique(Y_train)"
   ]
  },
  {
   "cell_type": "code",
   "execution_count": 63,
   "metadata": {
    "papermill": {
     "duration": 73.888887,
     "end_time": "2022-08-19T02:42:58.750388",
     "exception": false,
     "start_time": "2022-08-19T02:41:44.861501",
     "status": "completed"
    },
    "scrolled": true,
    "tags": []
   },
   "outputs": [
    {
     "ename": "IndexError",
     "evalue": "only integers, slices (`:`), ellipsis (`...`), numpy.newaxis (`None`) and integer or boolean arrays are valid indices",
     "output_type": "error",
     "traceback": [
      "\u001b[1;31m---------------------------------------------------------------------------\u001b[0m",
      "\u001b[1;31mIndexError\u001b[0m                                Traceback (most recent call last)",
      "Cell \u001b[1;32mIn[63], line 4\u001b[0m\n\u001b[0;32m      2\u001b[0m y_train_encoded \u001b[38;5;241m=\u001b[39m np\u001b[38;5;241m.\u001b[39mzeros((\u001b[38;5;28mlen\u001b[39m(y_train), num_classes))\n\u001b[0;32m      3\u001b[0m \u001b[38;5;28;01mfor\u001b[39;00m i, label \u001b[38;5;129;01min\u001b[39;00m \u001b[38;5;28menumerate\u001b[39m(y_train):\n\u001b[1;32m----> 4\u001b[0m     \u001b[43my_train_encoded\u001b[49m\u001b[43m[\u001b[49m\u001b[43mi\u001b[49m\u001b[43m,\u001b[49m\u001b[43m \u001b[49m\u001b[43mlabel\u001b[49m\u001b[43m]\u001b[49m \u001b[38;5;241m=\u001b[39m \u001b[38;5;241m1\u001b[39m\n",
      "\u001b[1;31mIndexError\u001b[0m: only integers, slices (`:`), ellipsis (`...`), numpy.newaxis (`None`) and integer or boolean arrays are valid indices"
     ]
    }
   ],
   "source": [
    "num_classes = len(np.unique(y_train))\n",
    "y_train_encoded = np.zeros((len(y_train), num_classes))\n",
    "for i, label in enumerate(y_train):\n",
    "    y_train_encoded[i, label] = 1"
   ]
  },
  {
   "cell_type": "code",
   "execution_count": 43,
   "metadata": {
    "papermill": {
     "duration": 0.459542,
     "end_time": "2022-08-19T02:42:59.659091",
     "exception": false,
     "start_time": "2022-08-19T02:42:59.199549",
     "status": "completed"
    },
    "tags": []
   },
   "outputs": [],
   "source": [
    "#np.unique([1, 1, 2, 2, 3, 3])\n",
    "test_values=np.unique(y_test)\n",
    "test_values\n",
    "\n",
    "Y_test=np.zeros(shape=(len(y_test),len(test_values)))\n",
    "k=0\n",
    "for x in y_test:\n",
    "     for i in range(len(test_values)):\n",
    "            if x==test_values[i]:\n",
    "                tmp=list(np.zeros(41))\n",
    "                tmp[i]=1\n",
    "                Y_test[k]=tmp\n",
    "                k+=1\n"
   ]
  },
  {
   "cell_type": "code",
   "execution_count": null,
   "metadata": {
    "papermill": {
     "duration": 0.503815,
     "end_time": "2022-08-19T02:43:00.610625",
     "exception": false,
     "start_time": "2022-08-19T02:43:00.106810",
     "status": "completed"
    },
    "tags": []
   },
   "outputs": [],
   "source": [
    "pre=model.predict_proba(x_test)"
   ]
  },
  {
   "cell_type": "code",
   "execution_count": null,
   "metadata": {
    "papermill": {
     "duration": 0.462308,
     "end_time": "2022-08-19T02:43:01.518533",
     "exception": false,
     "start_time": "2022-08-19T02:43:01.056225",
     "status": "completed"
    },
    "tags": []
   },
   "outputs": [],
   "source": [
    "pre[0].max()"
   ]
  },
  {
   "cell_type": "code",
   "execution_count": null,
   "metadata": {
    "papermill": {
     "duration": 0.457049,
     "end_time": "2022-08-19T02:43:02.472679",
     "exception": false,
     "start_time": "2022-08-19T02:43:02.015630",
     "status": "completed"
    },
    "tags": []
   },
   "outputs": [],
   "source": [
    "acc=0;\n",
    "for i in range(len(pre)):\n",
    "    if pre[i].argmax() == Y_test[i].argmax() :\n",
    "        if pre[i].max() >= 0.90:\n",
    "            acc+=1\n",
    "\n",
    "acc=acc/len(pre)\n",
    "acc"
   ]
  }
 ],
 "metadata": {
  "kernelspec": {
   "display_name": "Python 3 (ipykernel)",
   "language": "python",
   "name": "python3"
  },
  "language_info": {
   "codemirror_mode": {
    "name": "ipython",
    "version": 3
   },
   "file_extension": ".py",
   "mimetype": "text/x-python",
   "name": "python",
   "nbconvert_exporter": "python",
   "pygments_lexer": "ipython3",
   "version": "3.12.4"
  },
  "papermill": {
   "duration": 89.395302,
   "end_time": "2022-08-19T02:43:03.027634",
   "environment_variables": {},
   "exception": null,
   "input_path": "__notebook__.ipynb",
   "output_path": "__notebook__.ipynb",
   "parameters": {},
   "start_time": "2022-08-19T02:41:33.632332",
   "version": "2.1.0"
  }
 },
 "nbformat": 4,
 "nbformat_minor": 4
}
